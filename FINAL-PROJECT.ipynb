{
 "cells": [
  {
   "cell_type": "code",
   "execution_count": 42,
   "id": "550c8d30-9449-495b-901b-99609e84345f",
   "metadata": {
    "editable": true,
    "slideshow": {
     "slide_type": ""
    },
    "tags": []
   },
   "outputs": [],
   "source": [
    "import numpy as np\n",
    "import json\n",
    "import sqlite3\n",
    "import pandas as pd\n",
    "\n",
    "def prettify_data(rows):\n",
    "    category_dict = {}\n",
    "    for row in rows:\n",
    "        # Using 'id' as the key, and storing 'name' and 'type' in a sub-dictionary\n",
    "        category_dict[row[0]] = {'name': row[1], 'type': row[2]}\n",
    "    return category_dict\n",
    "    \n",
    "type_sql = '''\n",
    "    CREATE TABLE IF NOT EXISTS type_table (\n",
    "        type_id INTEGER NOT NULL UNIQUE, \n",
    "        name TEXT,\n",
    "        PRIMARY KEY(type_id)\n",
    "    )\n",
    "    '''\n",
    "freq_sql = '''\n",
    "    CREATE TABLE IF NOT EXISTS frequency_table (\n",
    "            freq_id INTEGER NOT NULL UNIQUE,\n",
    "            name TEXT,\n",
    "            PRIMARY KEY(name)\n",
    "        )\n",
    "'''\n",
    "\n",
    "category_sql = '''\n",
    "    CREATE TABLE IF NOT EXISTS category_table (\n",
    "        category_id INTEGER NOT NULL UNIQUE,\n",
    "        name TEXT,\n",
    "        type INTEGER NOT NULL,\n",
    "        PRIMARY KEY(category_id AUTOINCREMENT),\n",
    "        FOREIGN KEY(type) REFERENCES type_table(type_id)\n",
    "    )\n",
    "    '''\n",
    "records_sql = '''\n",
    "    CREATE TABLE IF NOT EXISTS records (\n",
    "        records_id INTEGER NOT NULL UNIQUE,\n",
    "        name TEXT,\n",
    "        type INTEGER NOT NULL,\n",
    "        frequency INTEGER NOT NULL,\n",
    "        category INTEGER NOT NULL,\n",
    "        PRIMARY KEY(records_id),\n",
    "        FOREIGN KEY(type) REFERENCES type_table(type_id)\n",
    "        FOREIGN KEY(frequency) REFERENCES frequency_table(freq_id)\n",
    "        FOREIGN KEY(category) REFERENCES category_table(category_id)\n",
    "    )\n",
    "    '''\n",
    "\n",
    "commands = [type_sql, freq_sql, category_sql, records_sql]\n",
    "new_db = \"/Users/troboukis/Code/EAP/PLHPRO/final-project/FINANCE-DATABASE/new_db.db\"\n",
    "\n",
    "class DatabaseConnection:\n",
    "    def __init__(self, db_path):\n",
    "        self.db_path = db_path\n",
    "        self.conn = None\n",
    "\n",
    "    def __enter__(self):\n",
    "        if self.conn is None:\n",
    "            self.conn = sqlite3.connect(self.db_path)\n",
    "            self.cursor = self.conn.cursor()\n",
    "            self.cursor.execute('PRAGMA foreign_keys = ON;')\n",
    "            print(\"Συνδεθήκατε στη βάση δεδομένων.\")\n",
    "            return self\n",
    "\n",
    "    def __exit__(self, exc_type, exc_val, exc_tb):\n",
    "        if self.conn:\n",
    "            self.conn.commit()\n",
    "            self.conn.close()\n",
    "            self.conn=None\n",
    "\n",
    "    def create_table(self, sql_command):\n",
    "        self.cursor.execute('PRAGMA foreign_keys = ON;')\n",
    "        self.cursor.execute(sql_command)\n",
    "        self.conn.commit()\n",
    "\n",
    "    def retrieveID(self, table_name, column_name, category_name):\n",
    "        \"\"\"\n",
    "        Ανακτά το id μίας εγγραφής.\n",
    "        \n",
    "        :param table_name: Το όνομα του πίνακα προς αναζήτηση.\n",
    "        :param column_name: Το όνομα της στήλης ID που θα ανακτηθεί.\n",
    "        :param category_name: Το όνομα της κατηγορίας για αναζήτηση.\n",
    "        \"\"\"\n",
    "        # Validate or sanitize table_name and column_name if necessary\n",
    "        allowed_tables = {\"category_table\": [\"category_id\"]}\n",
    "        if table_name in allowed_tables and column_name in allowed_tables[table_name]:\n",
    "            query = f\"SELECT {column_name} FROM {table_name} WHERE name = ?\"\n",
    "            self.cursor.execute(query, (category_name,))\n",
    "            result = self.cursor.fetchone()\n",
    "            if result:\n",
    "                return result[0]\n",
    "            else:\n",
    "                print(f\"Δεν βρέθηκε κατηγορία με το όνομα '{category_name}'.\")\n",
    "                return None\n",
    "        else:\n",
    "            raise ValueError(\"Μη έγκυρο όνομα πίνακα ή όνομα στήλης.\")\n",
    "\n",
    "    def get_tables(self):\n",
    "        '''\n",
    "        Επιστρέφει τα ονόματα των πινάκων της βάσης δεδομένων.\n",
    "        '''\n",
    "        self.cursor.execute(\"SELECT name FROM sqlite_master WHERE type='table';\")\n",
    "        self.tables = self.cursor.fetchall()\n",
    "        list_tables = [table[0] for table in self.tables]\n",
    "        return list_tables\n",
    "        \n",
    "\n",
    "    def showData(self, table, dataframe=False):\n",
    "        '''\n",
    "        Επιστρέφει τα δεδομένα της βάσης δεδομένων. Εάν columns=True, τότε επιστρέφει ένα πλαίσιο δεδομένων. Διαφορετικά επιστρέφει ένα λεξικό.\n",
    "        '''\n",
    "        self.__enter__()\n",
    "        parameter = f\"SELECT * FROM {table}\"\n",
    "        self.cursor.execute(parameter)\n",
    "        data = self.cursor.fetchall()\n",
    "        if not dataframe:\n",
    "            return prettify_data(data)\n",
    "        else:\n",
    "            columns = [description[0] for description in self.cursor.description]\n",
    "            # Use pandas DataFrame for prettifying and easy manipulation of data and column names\n",
    "            df = pd.DataFrame(data, columns=columns)\n",
    "            self.__exit__()\n",
    "            return df\n",
    "            \n",
    "            \n",
    "class Income(DatabaseConnection):\n",
    "    def __init__(self, db_path):\n",
    "        super().__init__(db_path)\n",
    "\n",
    "    def InsertCategory(self):\n",
    "        \"\"\"\n",
    "        Εισάγει μια νέα κατηγορία στον πίνακα 'category_table'. \n",
    "        Η μέθοδος ζητά από τον χρήστη να καθορίσει εάν η νέα κατηγορία είναι έσοδο (1) ή έξοδο (0), και στη συνέχεια το όνομα της κατηγορίας. \n",
    "        Στη συνέχεια, προσπαθεί να εισάγει αυτές τις τιμές στη βάση δεδομένων. Εάν η εισαγωγή είναι επιτυχής, εκτυπώνει μήνυμα επιτυχίας. Σε περίπτωση \n",
    "        που εμφανιστεί σφάλμα, εκτυπώνει το σχετικό μήνυμα.\n",
    "        \"\"\"\n",
    "        \n",
    "        self.__enter__()  # Βεβαιωθείτε ότι η σύνδεση είναι ανοιχτή\n",
    "        type_id = int(input(\"Πατήστε '0' εάν η νέα κατηγορία είναι έξοδο και '1' εάν είναι έσοδο. \"))\n",
    "        if type_id == 0:\n",
    "            name = input(\"Εισάγετε την κατηγορία εσόδου.\")\n",
    "        else:\n",
    "            name = input(\"Εισάγετε την κατηγορία εξόδου.\")\n",
    "        insert_query = '''INSERT INTO category_table (name, type) VALUES (?, ?)'''\n",
    "        try:\n",
    "            self.cursor.execute(insert_query, (name, type_id))\n",
    "            self.conn.commit()  # Δέσμευση αλλαγών στη βάση δεδομένων\n",
    "            print(\"Η κατηγορία εισήχθη επιτυχώς.\")\n",
    "            return name\n",
    "        except sqlite3.IntegrityError as e:\n",
    "            print(\"Εμφανίστηκε σφάλμα:\", e)\n",
    "        finally:\n",
    "            self.__exit__()  # Κλείστε τη σύνδεση όταν τελειώσετε\n",
    "\n",
    "    def InsertRecord(self, categ_id, freq_id, type_id):\n",
    "        \"\"\"\n",
    "        Εισάγει μια νέα εγγραφή στον πίνακα 'records'. Η μέθοδος αρχικά ζητά από τον χρήστη να εισάγει το έσοδο ή το έξοδο \n",
    "        βάσει του τύπου της εγγραφής (0 για έξοδο, 1 για έσοδο). Στη συνέχεια, προσπαθεί να εισάγει την εγγραφή με τα δοθέντα \n",
    "        στοιχεία στη βάση δεδομένων. Εάν η εισαγωγή είναι επιτυχής, εκτυπώνει μήνυμα επιτυχίας. Σε περίπτωση σφάλματος \n",
    "        της βάσης δεδομένων, εκτυπώνει το αντίστοιχο μήνυμα.\n",
    "        :param categ_id: Το ID της κατηγορίας όπου ανήκει η εγγραφή. Αντιστοιχεί σε μια υπάρχουσα εγγραφή στον πίνακα 'category_table'.\n",
    "        :param freq_id: Το ID της συχνότητας με την οποία συμβαίνει η εγγραφή (π.χ., μηνιαία, ετήσια). Αντιστοιχεί σε μια υπάρχουσα εγγραφή στον πίνακα 'frequency_table'.\n",
    "        :param type_id: Ο τύπος της εγγραφής (0 για έξοδο, 1 για έσοδο), καθορίζοντας αν αυτή είναι έσοδο ή έξοδο.\n",
    "        \"\"\"\n",
    "        self.__enter__()  # Βεβαιωθείτε ότι η σύνδεση είναι ανοιχτή\n",
    "        if type_id == 0:\n",
    "            name = input(\"Εισάγετε τo έσοδο.\")\n",
    "        else:\n",
    "            name = input(\"Εισάγετε το έξοδο.\")\n",
    "        insert_query = '''INSERT INTO records (name, type, frequency, category) VALUES (?, ?, ?, ?)'''\n",
    "        try:\n",
    "            self.cursor.execute(insert_query, (name, type_id, freq_id, categ_id))\n",
    "            self.conn.commit()  # Δέσμευση αλλαγών στη βάση δεδομένων\n",
    "            print(\"Η εγγραφή εισήχθη επιτυχώς.\")\n",
    "        except sqlite3.IntegrityError as e:\n",
    "            print(\"Εμφανίστηκε σφάλμα:\", e)\n",
    "        finally:\n",
    "            self.__exit__()  # Κλείστε τη σύνδεση όταν τελειώσετε\n",
    "\n",
    "    def UpdateCategory(self):\n",
    "        pass\n",
    "\n",
    "    def UpdateRecord(self):\n",
    "        pass\n",
    "        \n",
    "    def DeleteCategory(self):\n",
    "        pass\n",
    "\n",
    "    def DeleteRecord(self):\n",
    "        pass\n",
    "\n",
    "class Expenses(DatabaseConnection):\n",
    "    def __init__(self, db_path):\n",
    "        super().__init__(db_path)\n",
    "\n"
   ]
  },
  {
   "cell_type": "code",
   "execution_count": 43,
   "id": "2afcf3e1-10a8-4c13-8471-3a38bcbceded",
   "metadata": {},
   "outputs": [],
   "source": [
    "try:\n",
    "    db.__exit__()\n",
    "except:\n",
    "    pass\n",
    "db = Income(new_db)"
   ]
  },
  {
   "cell_type": "code",
   "execution_count": 2,
   "id": "8863ad6d-68c7-4e25-8a1e-2751d8232807",
   "metadata": {
    "scrolled": true
   },
   "outputs": [
    {
     "name": "stdout",
     "output_type": "stream",
     "text": [
      "Συνδεθήκατε στη βάση δεδομένων.\n"
     ]
    }
   ],
   "source": [
    "with DatabaseConnection(new_db) as db:\n",
    "    db.create_table(type_sql)\n",
    "    db.create_table(category_sql)\n",
    "    db.create_table(freq_sql)\n",
    "    db.create_table(records_sql)\n",
    "    "
   ]
  },
  {
   "cell_type": "code",
   "execution_count": 40,
   "id": "02ccbbd0-99f5-42cd-beb5-e18f1d0f8dc7",
   "metadata": {},
   "outputs": [
    {
     "name": "stdout",
     "output_type": "stream",
     "text": [
      "Συνδεθήκατε στη βάση δεδομένων.\n"
     ]
    }
   ],
   "source": [
    "with Income(new_db) as db:\n",
    "    df = db.showData('category_table', dataframe=True)"
   ]
  },
  {
   "cell_type": "code",
   "execution_count": 44,
   "id": "964fc295-85b1-499a-a865-9fa61db0fda2",
   "metadata": {},
   "outputs": [
    {
     "name": "stdout",
     "output_type": "stream",
     "text": [
      "Συνδεθήκατε στη βάση δεδομένων.\n"
     ]
    },
    {
     "ename": "TypeError",
     "evalue": "DatabaseConnection.__exit__() missing 3 required positional arguments: 'exc_type', 'exc_val', and 'exc_tb'",
     "output_type": "error",
     "traceback": [
      "\u001b[0;31m---------------------------------------------------------------------------\u001b[0m",
      "\u001b[0;31mTypeError\u001b[0m                                 Traceback (most recent call last)",
      "Cell \u001b[0;32mIn[44], line 1\u001b[0m\n\u001b[0;32m----> 1\u001b[0m \u001b[43mdb\u001b[49m\u001b[38;5;241;43m.\u001b[39;49m\u001b[43mshowData\u001b[49m\u001b[43m(\u001b[49m\u001b[38;5;124;43m'\u001b[39;49m\u001b[38;5;124;43mcategory_table\u001b[39;49m\u001b[38;5;124;43m'\u001b[39;49m\u001b[43m,\u001b[49m\u001b[43m \u001b[49m\u001b[43mdataframe\u001b[49m\u001b[38;5;241;43m=\u001b[39;49m\u001b[38;5;28;43;01mTrue\u001b[39;49;00m\u001b[43m)\u001b[49m\n",
      "Cell \u001b[0;32mIn[42], line 124\u001b[0m, in \u001b[0;36mDatabaseConnection.showData\u001b[0;34m(self, table, dataframe)\u001b[0m\n\u001b[1;32m    122\u001b[0m \u001b[38;5;66;03m# Use pandas DataFrame for prettifying and easy manipulation of data and column names\u001b[39;00m\n\u001b[1;32m    123\u001b[0m df \u001b[38;5;241m=\u001b[39m pd\u001b[38;5;241m.\u001b[39mDataFrame(data, columns\u001b[38;5;241m=\u001b[39mcolumns)\n\u001b[0;32m--> 124\u001b[0m \u001b[38;5;28;43mself\u001b[39;49m\u001b[38;5;241;43m.\u001b[39;49m\u001b[38;5;21;43m__exit__\u001b[39;49m\u001b[43m(\u001b[49m\u001b[43m)\u001b[49m\n\u001b[1;32m    125\u001b[0m \u001b[38;5;28;01mreturn\u001b[39;00m df\n",
      "\u001b[0;31mTypeError\u001b[0m: DatabaseConnection.__exit__() missing 3 required positional arguments: 'exc_type', 'exc_val', and 'exc_tb'"
     ]
    }
   ],
   "source": [
    "db.showData('category_table', dataframe=True)"
   ]
  },
  {
   "cell_type": "code",
   "execution_count": 37,
   "id": "b2e5cbc0-9ead-4047-8f40-8aa2d75cf2bd",
   "metadata": {},
   "outputs": [
    {
     "ename": "ProgrammingError",
     "evalue": "Cannot operate on a closed database.",
     "output_type": "error",
     "traceback": [
      "\u001b[0;31m---------------------------------------------------------------------------\u001b[0m",
      "\u001b[0;31mProgrammingError\u001b[0m                          Traceback (most recent call last)",
      "Cell \u001b[0;32mIn[37], line 1\u001b[0m\n\u001b[0;32m----> 1\u001b[0m \u001b[43mdb\u001b[49m\u001b[38;5;241;43m.\u001b[39;49m\u001b[43mshowData\u001b[49m\u001b[43m(\u001b[49m\u001b[38;5;124;43m'\u001b[39;49m\u001b[38;5;124;43mcategory_table\u001b[39;49m\u001b[38;5;124;43m'\u001b[39;49m\u001b[43m)\u001b[49m\n",
      "Cell \u001b[0;32mIn[32], line 115\u001b[0m, in \u001b[0;36mDatabaseConnection.showData\u001b[0;34m(self, table, dataframe)\u001b[0m\n\u001b[1;32m    111\u001b[0m \u001b[38;5;250m\u001b[39m\u001b[38;5;124;03m'''\u001b[39;00m\n\u001b[1;32m    112\u001b[0m \u001b[38;5;124;03mΕπιστρέφει τα δεδομένα της βάσης δεδομένων. Εάν columns=True, τότε επιστρέφει ένα πλαίσιο δεδομένων. Διαφορετικά επιστρέφει ένα λεξικό.\u001b[39;00m\n\u001b[1;32m    113\u001b[0m \u001b[38;5;124;03m'''\u001b[39;00m\n\u001b[1;32m    114\u001b[0m parameter \u001b[38;5;241m=\u001b[39m \u001b[38;5;124mf\u001b[39m\u001b[38;5;124m\"\u001b[39m\u001b[38;5;124mSELECT * FROM \u001b[39m\u001b[38;5;132;01m{\u001b[39;00mtable\u001b[38;5;132;01m}\u001b[39;00m\u001b[38;5;124m\"\u001b[39m\n\u001b[0;32m--> 115\u001b[0m \u001b[38;5;28;43mself\u001b[39;49m\u001b[38;5;241;43m.\u001b[39;49m\u001b[43mcursor\u001b[49m\u001b[38;5;241;43m.\u001b[39;49m\u001b[43mexecute\u001b[49m\u001b[43m(\u001b[49m\u001b[43mparameter\u001b[49m\u001b[43m)\u001b[49m\n\u001b[1;32m    116\u001b[0m data \u001b[38;5;241m=\u001b[39m \u001b[38;5;28mself\u001b[39m\u001b[38;5;241m.\u001b[39mcursor\u001b[38;5;241m.\u001b[39mfetchall()\n\u001b[1;32m    117\u001b[0m \u001b[38;5;28;01mif\u001b[39;00m \u001b[38;5;129;01mnot\u001b[39;00m dataframe:\n",
      "\u001b[0;31mProgrammingError\u001b[0m: Cannot operate on a closed database."
     ]
    }
   ],
   "source": [
    "db.showData('category_table')"
   ]
  },
  {
   "cell_type": "code",
   "execution_count": null,
   "id": "74007f47-66e1-485b-bf4e-a5b91f31085a",
   "metadata": {},
   "outputs": [],
   "source": [
    "db.retrieveID(category_name='housing')"
   ]
  },
  {
   "cell_type": "code",
   "execution_count": 5,
   "id": "b4315536-daee-4291-9c48-32d609949fad",
   "metadata": {},
   "outputs": [
    {
     "ename": "TypeError",
     "evalue": "Income.InsertRecord() missing 3 required positional arguments: 'categ_id', 'freq_id', and 'type_id'",
     "output_type": "error",
     "traceback": [
      "\u001b[0;31m---------------------------------------------------------------------------\u001b[0m",
      "\u001b[0;31mTypeError\u001b[0m                                 Traceback (most recent call last)",
      "Cell \u001b[0;32mIn[5], line 1\u001b[0m\n\u001b[0;32m----> 1\u001b[0m \u001b[43mdb\u001b[49m\u001b[38;5;241;43m.\u001b[39;49m\u001b[43mInsertRecord\u001b[49m\u001b[43m(\u001b[49m\u001b[43m)\u001b[49m\n",
      "\u001b[0;31mTypeError\u001b[0m: Income.InsertRecord() missing 3 required positional arguments: 'categ_id', 'freq_id', and 'type_id'"
     ]
    }
   ],
   "source": [
    "db.InsertRecord()"
   ]
  },
  {
   "cell_type": "code",
   "execution_count": 9,
   "id": "e7d6c311-dbd1-4b4e-910e-fc7412dddf81",
   "metadata": {},
   "outputs": [
    {
     "name": "stdout",
     "output_type": "stream",
     "text": [
      "Συνδεθήκατε στη βάση δεδομένων.\n"
     ]
    }
   ],
   "source": [
    "# er.close_connection()\n",
    "er = enterRecords(new_db) \n",
    "er.open_connection()"
   ]
  },
  {
   "cell_type": "code",
   "execution_count": 11,
   "id": "cd8494fd-23f2-4e5b-8a7b-19d5c908df3a",
   "metadata": {},
   "outputs": [],
   "source": [
    "# er.insert_record()"
   ]
  },
  {
   "cell_type": "code",
   "execution_count": 12,
   "id": "818a4d92-ee1c-415e-8ba6-c23b36c071c9",
   "metadata": {},
   "outputs": [
    {
     "name": "stdin",
     "output_type": "stream",
     "text": [
      "Πατήστε '0' εάν η νέα κατηγορία είναι έξοδο και '1' εάν είναι έσοδο.  0\n",
      "Εισάγετε την κατηγορία εσόδου. Συνδρομή σε πορνό\n"
     ]
    },
    {
     "name": "stdout",
     "output_type": "stream",
     "text": [
      "Η κατηγορία εισήχθη επιτυχώς.\n",
      "Αποσυνδεθήκατε από τη βάση δεδομένων.\n"
     ]
    },
    {
     "data": {
      "text/plain": [
       "'Συνδρομή σε πορνό'"
      ]
     },
     "execution_count": 12,
     "metadata": {},
     "output_type": "execute_result"
    }
   ],
   "source": [
    "er.insert_category()"
   ]
  },
  {
   "cell_type": "code",
   "execution_count": 4,
   "id": "edd8e5ed-d388-4048-bb55-21e37ac54ddb",
   "metadata": {},
   "outputs": [
    {
     "ename": "NameError",
     "evalue": "name 'er' is not defined",
     "output_type": "error",
     "traceback": [
      "\u001b[0;31m---------------------------------------------------------------------------\u001b[0m",
      "\u001b[0;31mNameError\u001b[0m                                 Traceback (most recent call last)",
      "Cell \u001b[0;32mIn[4], line 1\u001b[0m\n\u001b[0;32m----> 1\u001b[0m \u001b[43mer\u001b[49m\u001b[38;5;241m.\u001b[39mclose_connection()\n",
      "\u001b[0;31mNameError\u001b[0m: name 'er' is not defined"
     ]
    }
   ],
   "source": [
    "er.close_connection()"
   ]
  },
  {
   "cell_type": "code",
   "execution_count": null,
   "id": "e7eae46a-3eeb-4f9c-b147-69f36be1af6b",
   "metadata": {},
   "outputs": [],
   "source": [
    "with showDatabase(new_db) as db:\n",
    "    tables = db.get_tables() \n",
    "    data = db.showData(tables[0], dataframe=True)\n",
    "    print(tables)\n",
    "    print(data)"
   ]
  },
  {
   "cell_type": "code",
   "execution_count": null,
   "id": "ebc030a3-8196-4fcd-a3d0-2195923a6dd4",
   "metadata": {},
   "outputs": [],
   "source": [
    "db.showData('category_table', dataframe=True)"
   ]
  },
  {
   "cell_type": "code",
   "execution_count": null,
   "id": "523b91ed-b8be-44a6-a753-830d558d273f",
   "metadata": {},
   "outputs": [],
   "source": [
    "db.disconnect()"
   ]
  },
  {
   "cell_type": "code",
   "execution_count": null,
   "id": "0b8c2757-26d1-422f-8deb-260b195d3d83",
   "metadata": {},
   "outputs": [],
   "source": [
    "for command in commands:\n",
    "    db.create_table(command)"
   ]
  },
  {
   "cell_type": "code",
   "execution_count": null,
   "id": "e453a863-1292-4fbd-8051-ef37e6c0a5a9",
   "metadata": {},
   "outputs": [],
   "source": [
    "db.get_tables()"
   ]
  },
  {
   "cell_type": "code",
   "execution_count": null,
   "id": "c725e9b3-1933-4e18-bd47-f996fea2b4cc",
   "metadata": {},
   "outputs": [],
   "source": [
    "for item in db.get_tables():\n",
    "    print(f\"table: item\\ndata: {db.showData(item, columns=True)}\\n\\n\")"
   ]
  },
  {
   "cell_type": "code",
   "execution_count": null,
   "id": "2df99580-d5d9-4a1d-81d7-fc4bb5703df0",
   "metadata": {},
   "outputs": [],
   "source": []
  },
  {
   "cell_type": "code",
   "execution_count": null,
   "id": "12163b86-13f7-4c4a-85cb-a84f436ed319",
   "metadata": {},
   "outputs": [],
   "source": [
    "db.disconnect()"
   ]
  },
  {
   "cell_type": "code",
   "execution_count": 16,
   "id": "fe12243b-c262-4285-9760-4f45c3b9e2a7",
   "metadata": {},
   "outputs": [],
   "source": []
  },
  {
   "cell_type": "code",
   "execution_count": 23,
   "id": "670705ec-594d-474d-ae26-059f7c27af5c",
   "metadata": {},
   "outputs": [
    {
     "data": {
      "text/plain": [
       "'H ημέρα είναι 02 του έτους 2024'"
      ]
     },
     "execution_count": 23,
     "metadata": {},
     "output_type": "execute_result"
    }
   ],
   "source": [
    "from datetime import date\n",
    "\n",
    "today = date.today()\n",
    "today.strftime(\"H ημέρα είναι %d του έτους %Y\")"
   ]
  },
  {
   "cell_type": "code",
   "execution_count": null,
   "id": "1b4113a9",
   "metadata": {},
   "outputs": [],
   "source": []
  }
 ],
 "metadata": {
  "kernelspec": {
   "display_name": "eap-final-project",
   "language": "python",
   "name": "eap-final-project"
  },
  "language_info": {
   "codemirror_mode": {
    "name": "ipython",
    "version": 3
   },
   "file_extension": ".py",
   "mimetype": "text/x-python",
   "name": "python",
   "nbconvert_exporter": "python",
   "pygments_lexer": "ipython3",
   "version": "3.11.2"
  }
 },
 "nbformat": 4,
 "nbformat_minor": 5
}
