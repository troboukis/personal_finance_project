{
 "cells": [
  {
   "cell_type": "code",
   "execution_count": 8,
   "id": "550c8d30-9449-495b-901b-99609e84345f",
   "metadata": {
    "editable": true,
    "slideshow": {
     "slide_type": ""
    },
    "tags": []
   },
   "outputs": [],
   "source": [
    "import numpy as np\n",
    "import json\n",
    "import sqlite3\n",
    "import pandas as pd\n",
    "\n",
    "def prettify_data(rows):\n",
    "    category_dict = {}\n",
    "    for row in rows:\n",
    "        # Using 'id' as the key, and storing 'name' and 'type' in a sub-dictionary\n",
    "        category_dict[row[0]] = {'name': row[1], 'type': row[2]}\n",
    "    return category_dict\n",
    "    \n",
    "type_sql = '''\n",
    "    CREATE TABLE IF NOT EXISTS type_table (\n",
    "        type_id INTEGER NOT NULL UNIQUE, \n",
    "        name TEXT,\n",
    "        PRIMARY KEY(type_id)\n",
    "    )\n",
    "    '''\n",
    "freq_sql = '''\n",
    "    CREATE TABLE IF NOT EXISTS frequency_table (\n",
    "            freq_id INTEGER NOT NULL UNIQUE,\n",
    "            name TEXT,\n",
    "            PRIMARY KEY(name)\n",
    "        )\n",
    "'''\n",
    "\n",
    "category_sql = '''\n",
    "    CREATE TABLE IF NOT EXISTS category_table (\n",
    "        category_id INTEGER NOT NULL UNIQUE,\n",
    "        name TEXT,\n",
    "        type INTEGER NOT NULL,\n",
    "        PRIMARY KEY(category_id AUTOINCREMENT),\n",
    "        FOREIGN KEY(type) REFERENCES type_table(type_id)\n",
    "    )\n",
    "    '''\n",
    "records_sql = '''\n",
    "    CREATE TABLE IF NOT EXISTS records (\n",
    "        records_id INTEGER NOT NULL UNIQUE,\n",
    "        name TEXT,\n",
    "        type INTEGER NOT NULL,\n",
    "        frequency INTEGER NOT NULL,\n",
    "        category INTEGER NOT NULL,\n",
    "        PRIMARY KEY(records_id),\n",
    "        FOREIGN KEY(type) REFERENCES type_table(type_id)\n",
    "        FOREIGN KEY(frequency) REFERENCES frequency_table(freq_id)\n",
    "        FOREIGN KEY(category) REFERENCES category_table(category_id)\n",
    "    )\n",
    "    '''\n",
    "\n",
    "commands = [type_sql, freq_sql, category_sql, records_sql]\n",
    "new_db = \"/Users/troboukis/Code/EAP/PLHPRO/final-project/FINANCE-DATABASE/new_db.db\"\n",
    "\n",
    "class DatabaseConnection:\n",
    "    def __init__(self, db_path):\n",
    "        self.db_path = db_path\n",
    "        self.conn = None\n",
    "\n",
    "    def __enter__(self):\n",
    "        self.conn = sqlite3.connect(self.db_path)\n",
    "        self.cursor = self.conn.cursor()\n",
    "        self.cursor.execute('PRAGMA foreign_keys = ON;')\n",
    "        print(\"Συνδεθήκατε στη βάση δεδομένων.\")\n",
    "        return self\n",
    "\n",
    "    def __exit__(self, exc_type, exc_val, exc_tb):\n",
    "        self.conn.commit()\n",
    "        self.conn.close()\n",
    "\n",
    "    def create_table(self, sql_command):\n",
    "        self.cursor.execute('PRAGMA foreign_keys = ON;')\n",
    "        self.cursor.execute(sql_command)\n",
    "        self.conn.commit()\n",
    "\n",
    "    def get_index(self, table_name, column_name, category_name):\n",
    "        \"\"\"\n",
    "        Retrieves the ID for a given category name from the specified table.\n",
    "        \n",
    "        :param table_name: The name of the table to search.\n",
    "        :param column_name: The name of the ID column to retrieve.\n",
    "        :param category_name: The category name to search for.\n",
    "        \"\"\"\n",
    "        # Validate or sanitize table_name and column_name if necessary\n",
    "        allowed_tables = {\"category_table\": [\"category_id\"]}\n",
    "        if table_name in allowed_tables and column_name in allowed_tables[table_name]:\n",
    "            query = f\"SELECT {column_name} FROM {table_name} WHERE name = ?\"\n",
    "            self.cursor.execute(query, (category_name,))\n",
    "            result = self.cursor.fetchone()\n",
    "            if result:\n",
    "                return result[0]\n",
    "            else:\n",
    "                print(f\"No category found with the name '{category_name}'.\")\n",
    "                return None\n",
    "        else:\n",
    "            raise ValueError(\"Invalid table name or column name specified.\")\n",
    "\n",
    "class showDatabase(DatabaseConnection):\n",
    "    def __init__(self, db_path):\n",
    "        super().__init__(db_path)\n",
    "    \n",
    "    def get_tables(self):\n",
    "        '''\n",
    "        Επιστρέφει τα ονόματα των πινάκων της βάσης δεδομένων.\n",
    "        '''\n",
    "        self.cursor.execute(\"SELECT name FROM sqlite_master WHERE type='table';\")\n",
    "        self.tables = self.cursor.fetchall()\n",
    "        list_tables = [table[0] for table in self.tables]\n",
    "        return list_tables\n",
    "        \n",
    "\n",
    "    def showData(self, table, dataframe=False):\n",
    "        '''\n",
    "        Επιστρέφει τα δεδομένα της βάσης δεδομένων. Εάν columns=True, τότε επιστρέφει ένα πλαίσιο δεδομένων. Διαφορετικά επιστρέφει ένα λεξικό.\n",
    "        '''\n",
    "        parameter = f\"SELECT * FROM {table}\"\n",
    "        self.cursor.execute(parameter)\n",
    "        data = self.cursor.fetchall()\n",
    "        if not dataframe:\n",
    "            return prettify_data(data)\n",
    "        else:\n",
    "            columns = [description[0] for description in self.cursor.description]\n",
    "            # Use pandas DataFrame for prettifying and easy manipulation of data and column names\n",
    "            df = pd.DataFrame(data, columns=columns)\n",
    "            return df\n",
    "\n",
    "class enterRecords(DatabaseConnection):\n",
    "    def __init__(self, db_path):\n",
    "        super().__init__(db_path)\n",
    "    \n",
    "    def open_connection(self):\n",
    "        if self.conn is None:\n",
    "            self.conn = sqlite3.connect(self.db_path)\n",
    "            self.cursor = self.conn.cursor()\n",
    "            self.cursor.execute('PRAGMA foreign_keys = ON;')\n",
    "            print(\"Συνδεθήκατε στη βάση δεδομένων.\")\n",
    "\n",
    "    def close_connection(self):\n",
    "        if self.conn:\n",
    "            self.conn.commit()\n",
    "            self.conn.close()\n",
    "            self.conn = None\n",
    "            print(\"Αποσυνδεθήκατε από τη βάση δεδομένων.\")\n",
    "\n",
    "    def insert_category(self):\n",
    "        self.open_connection()  # Ensure the connection is open\n",
    "        type_id = int(input(\"Πατήστε '0' εάν η νέα κατηγορία είναι έξοδο και '1' εάν είναι έσοδο. \"))\n",
    "        if type_id == 0:\n",
    "            name = input(\"Εισάγετε την κατηγορία εσόδου.\")\n",
    "        else:\n",
    "            name = input(\"Εισάγετε την κατηγορία εξόδου.\")\n",
    "        insert_query = '''INSERT INTO category_table (name, type) VALUES (?, ?)'''\n",
    "        try:\n",
    "            self.cursor.execute(insert_query, (name, type_id))\n",
    "            self.conn.commit()  # Commit changes to the database\n",
    "            print(\"Η κατηγορία εισήχθη επιτυχώς.\")\n",
    "            return name\n",
    "        except sqlite3.IntegrityError as e:\n",
    "            print(\"Εμφανίστηκε σφάλμα:\", e)\n",
    "        finally:\n",
    "            self.close_connection()  # Close the connection when done\n",
    "\n",
    "    def insert_record(self, categ_id, freq_id, type_id):\n",
    "        self.open_connection()  # Ensure the connection is open\n",
    "        if type_id == 0:\n",
    "            name = input(\"Εισάγετε τo έσοδο.\")\n",
    "        else:\n",
    "            name = input(\"Εισάγετε το έξοδο.\")\n",
    "        insert_query = '''INSERT INTO records (name, type, frequency, category) VALUES (?, ?, ?, ?)'''\n",
    "        try:\n",
    "            self.cursor.execute(insert_query, (name, type_id, freq_id, categ_id))\n",
    "            self.conn.commit()  # Commit changes to the database\n",
    "            print(\"Η εγγραφή εισήχθη επιτυχώς.\")\n",
    "        except sqlite3.IntegrityError as e:\n",
    "            print(\"Εμφανίστηκε σφάλμα:\", e)\n",
    "        finally:\n",
    "            self.close_connection()  # Close the connection when done"
   ]
  },
  {
   "cell_type": "code",
   "execution_count": null,
   "id": "8863ad6d-68c7-4e25-8a1e-2751d8232807",
   "metadata": {
    "scrolled": true
   },
   "outputs": [],
   "source": [
    "with DatabaseConnection(new_db) as db:\n",
    "    db.create_table(type_sql)\n",
    "    db.create_table(category_sql)\n",
    "    db.create_table(freq_sql)\n",
    "    db.create_table(records_sql)\n",
    "    "
   ]
  },
  {
   "cell_type": "code",
   "execution_count": 2,
   "id": "2afcf3e1-10a8-4c13-8471-3a38bcbceded",
   "metadata": {},
   "outputs": [
    {
     "name": "stdout",
     "output_type": "stream",
     "text": [
      "Συνδεθήκατε στη βάση δεδομένων.\n",
      "1\n"
     ]
    }
   ],
   "source": [
    "db = DatabaseConnection(new_db)\n",
    "with db:\n",
    "    result = db.get_index('category_table', 'category_id', 'Ενοίκιο')\n",
    "    print(result)"
   ]
  },
  {
   "cell_type": "code",
   "execution_count": 9,
   "id": "e7d6c311-dbd1-4b4e-910e-fc7412dddf81",
   "metadata": {},
   "outputs": [
    {
     "name": "stdout",
     "output_type": "stream",
     "text": [
      "Συνδεθήκατε στη βάση δεδομένων.\n"
     ]
    }
   ],
   "source": [
    "# er.close_connection()\n",
    "er = enterRecords(new_db) \n",
    "er.open_connection()"
   ]
  },
  {
   "cell_type": "code",
   "execution_count": 11,
   "id": "cd8494fd-23f2-4e5b-8a7b-19d5c908df3a",
   "metadata": {},
   "outputs": [],
   "source": [
    "# er.insert_record()"
   ]
  },
  {
   "cell_type": "code",
   "execution_count": 12,
   "id": "818a4d92-ee1c-415e-8ba6-c23b36c071c9",
   "metadata": {},
   "outputs": [
    {
     "name": "stdin",
     "output_type": "stream",
     "text": [
      "Πατήστε '0' εάν η νέα κατηγορία είναι έξοδο και '1' εάν είναι έσοδο.  0\n",
      "Εισάγετε την κατηγορία εσόδου. Συνδρομή σε πορνό\n"
     ]
    },
    {
     "name": "stdout",
     "output_type": "stream",
     "text": [
      "Η κατηγορία εισήχθη επιτυχώς.\n",
      "Αποσυνδεθήκατε από τη βάση δεδομένων.\n"
     ]
    },
    {
     "data": {
      "text/plain": [
       "'Συνδρομή σε πορνό'"
      ]
     },
     "execution_count": 12,
     "metadata": {},
     "output_type": "execute_result"
    }
   ],
   "source": [
    "er.insert_category()"
   ]
  },
  {
   "cell_type": "code",
   "execution_count": 6,
   "id": "edd8e5ed-d388-4048-bb55-21e37ac54ddb",
   "metadata": {},
   "outputs": [],
   "source": [
    "er.close_connection()"
   ]
  },
  {
   "cell_type": "code",
   "execution_count": null,
   "id": "e7eae46a-3eeb-4f9c-b147-69f36be1af6b",
   "metadata": {},
   "outputs": [],
   "source": [
    "with showDatabase(new_db) as db:\n",
    "    tables = db.get_tables() \n",
    "    data = db.showData(tables[0], dataframe=True)\n",
    "    print(tables)\n",
    "    print(data)"
   ]
  },
  {
   "cell_type": "code",
   "execution_count": null,
   "id": "ebc030a3-8196-4fcd-a3d0-2195923a6dd4",
   "metadata": {},
   "outputs": [],
   "source": [
    "db.showData('category_table', dataframe=True)"
   ]
  },
  {
   "cell_type": "code",
   "execution_count": null,
   "id": "523b91ed-b8be-44a6-a753-830d558d273f",
   "metadata": {},
   "outputs": [],
   "source": [
    "db.disconnect()"
   ]
  },
  {
   "cell_type": "code",
   "execution_count": null,
   "id": "0b8c2757-26d1-422f-8deb-260b195d3d83",
   "metadata": {},
   "outputs": [],
   "source": [
    "for command in commands:\n",
    "    db.create_table(command)"
   ]
  },
  {
   "cell_type": "code",
   "execution_count": null,
   "id": "e453a863-1292-4fbd-8051-ef37e6c0a5a9",
   "metadata": {},
   "outputs": [],
   "source": [
    "db.get_tables()"
   ]
  },
  {
   "cell_type": "code",
   "execution_count": null,
   "id": "c725e9b3-1933-4e18-bd47-f996fea2b4cc",
   "metadata": {},
   "outputs": [],
   "source": [
    "for item in db.get_tables():\n",
    "    print(f\"table: item\\ndata: {db.showData(item, columns=True)}\\n\\n\")"
   ]
  },
  {
   "cell_type": "code",
   "execution_count": null,
   "id": "2df99580-d5d9-4a1d-81d7-fc4bb5703df0",
   "metadata": {},
   "outputs": [],
   "source": []
  },
  {
   "cell_type": "code",
   "execution_count": null,
   "id": "12163b86-13f7-4c4a-85cb-a84f436ed319",
   "metadata": {},
   "outputs": [],
   "source": [
    "db.disconnect()"
   ]
  },
  {
   "cell_type": "code",
   "execution_count": 16,
   "id": "fe12243b-c262-4285-9760-4f45c3b9e2a7",
   "metadata": {},
   "outputs": [],
   "source": []
  },
  {
   "cell_type": "code",
   "execution_count": 23,
   "id": "670705ec-594d-474d-ae26-059f7c27af5c",
   "metadata": {},
   "outputs": [
    {
     "data": {
      "text/plain": [
       "'H ημέρα είναι 02 του έτους 2024'"
      ]
     },
     "execution_count": 23,
     "metadata": {},
     "output_type": "execute_result"
    }
   ],
   "source": [
    "from datetime import date\n",
    "\n",
    "today = date.today()\n",
    "today.strftime(\"H ημέρα είναι %d του έτους %Y\")"
   ]
  },
  {
   "cell_type": "code",
   "execution_count": null,
   "id": "c1330aa8",
   "metadata": {},
   "outputs": [],
   "source": [
    "class Finance():\n",
    "    def __init__(self, database):\n",
    "        self.conn = sqlite3.connect(database)\n",
    "        self.cursor = self.conn.cursor()\n",
    "    \n",
    "    def get_tables(self):\n",
    "        self.cursor.execute(\"SELECT name FROM sqlite_master WHERE type='table';\")\n",
    "        self.tables = self.cursor.fetchall()\n",
    "        list_tables = [table[0] for table in self.tables]\n",
    "        return list_tables\n",
    "    \n",
    "    def get_data(self, table):\n",
    "        self.cursor.execute(f\"SELECT * FROM {table}\")\n",
    "        rows = self.cursor.fetchall()\n",
    "        for row in rows:\n",
    "            if row[1]=='add category':\n",
    "                print(row)\n",
    "    \n",
    "    def update_item(self, table, value_to_update):\n",
    "        name = input(\"Δώστε τo όνομα της κατηγορίας που θέλετε να ανανεώσετε.\")\n",
    "        if value_to_update == 'type':\n",
    "            value = int(input(\"Πατήστε 0 για να την εντάξετε στα έξοδα ή 1 για για να την εντάξετε στα έσοδα.\"))\n",
    "        elif value_to_update=='name':\n",
    "            value = input(\"Γράψτε το νέο όνομα της κατηγορίας.\")\n",
    "        parameter = f\"UPDATE {table} SET {value_to_update} = ? WHERE name = ?\"\n",
    "        self.cursor.execute(parameter, (value, name))\n",
    "        self.conn.commit()\n",
    "    \n",
    "    def delete_item(self, table):\n",
    "        name = input(\"Δώστε τo όνομα της κατηγορίας που θέλετε να διαγράψετε.\")\n",
    "        parameter = f\"DELETE FROM {table} WHERE name = ?\"\n",
    "        self.cursor.execute(parameter, (name,))\n",
    "        self.conn.commit()\n",
    "    \n",
    "    def add_item(self, table):\n",
    "        name = input(\"Δώστε το όνομα της νέας κατηγορίας\")\n",
    "        value = int(input(\"Πατήστε 0 εάν η νέα κατηγορία ανήκει στα έξοδα, ή 1 εάν ανήκει στα έσοδα\"))\n",
    "        parameter = f\"INSERT INTO {table} (name, type) VALUES (?, ?)\"\n",
    "        self.cursor.execute(parameter, (name, value))\n",
    "        self.conn.commit()\n",
    "        \n",
    "    def show_data(self, table):\n",
    "        parameter = f\"SELECT * FROM {table}\"\n",
    "        self.cursor.execute(f\"SELECT * FROM {table}\")\n",
    "        data = self.cursor.fetchall()\n",
    "        return prettify_data(data)\n",
    "    \n",
    "    def close_conn(self):\n",
    "        self.conn.close()\n",
    "        \n",
    "class Graphics(Finance):\n",
    "    def __init__(self):\n",
    "        super().__init__(self, database)"
   ]
  },
  {
   "cell_type": "code",
   "execution_count": null,
   "id": "bc8d3168",
   "metadata": {},
   "outputs": [],
   "source": [
    "fin = Finance(new_db)"
   ]
  },
  {
   "cell_type": "code",
   "execution_count": null,
   "id": "38d91b5b",
   "metadata": {},
   "outputs": [],
   "source": [
    "fin.close_conn()"
   ]
  },
  {
   "cell_type": "code",
   "execution_count": null,
   "id": "a7aad0e9",
   "metadata": {},
   "outputs": [],
   "source": [
    "pd.DataFrame(fin.show_data('category')).T.reset_index()"
   ]
  },
  {
   "cell_type": "code",
   "execution_count": null,
   "id": "4662f3fa",
   "metadata": {},
   "outputs": [],
   "source": [
    "fin.get_tables()"
   ]
  },
  {
   "cell_type": "code",
   "execution_count": null,
   "id": "358ec763",
   "metadata": {},
   "outputs": [],
   "source": [
    "fin.delete_item('category')"
   ]
  },
  {
   "cell_type": "code",
   "execution_count": null,
   "id": "561c0ddb",
   "metadata": {},
   "outputs": [],
   "source": [
    "fin.add_item('category')"
   ]
  },
  {
   "cell_type": "code",
   "execution_count": null,
   "id": "22457f22",
   "metadata": {},
   "outputs": [],
   "source": [
    "fin.update_item('category', 'name')"
   ]
  },
  {
   "cell_type": "code",
   "execution_count": null,
   "id": "028c07f3",
   "metadata": {},
   "outputs": [],
   "source": [
    "fin"
   ]
  },
  {
   "cell_type": "code",
   "execution_count": null,
   "id": "1b4113a9",
   "metadata": {},
   "outputs": [],
   "source": []
  }
 ],
 "metadata": {
  "kernelspec": {
   "display_name": "eap-final-project",
   "language": "python",
   "name": "eap-final-project"
  },
  "language_info": {
   "codemirror_mode": {
    "name": "ipython",
    "version": 3
   },
   "file_extension": ".py",
   "mimetype": "text/x-python",
   "name": "python",
   "nbconvert_exporter": "python",
   "pygments_lexer": "ipython3",
   "version": "3.11.2"
  }
 },
 "nbformat": 4,
 "nbformat_minor": 5
}
