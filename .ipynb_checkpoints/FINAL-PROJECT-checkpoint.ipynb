{
 "cells": [
  {
   "cell_type": "code",
   "execution_count": 47,
   "id": "550c8d30-9449-495b-901b-99609e84345f",
   "metadata": {
    "editable": true,
    "slideshow": {
     "slide_type": ""
    },
    "tags": []
   },
   "outputs": [],
   "source": [
    "import numpy as np\n",
    "import json\n",
    "import sqlite3\n",
    "import pandas as pd\n",
    "\n",
    "def prettify_data(rows):\n",
    "    category_dict = {}\n",
    "    for row in rows:\n",
    "        # Using 'id' as the key, and storing 'name' and 'type' in a sub-dictionary\n",
    "        category_dict[row[0]] = {'name': row[1], 'type': row[2]}\n",
    "    return category_dict\n",
    "    \n",
    "type_sql = '''\n",
    "    CREATE TABLE IF NOT EXISTS type_table (\n",
    "        type_id INTEGER NOT NULL UNIQUE, \n",
    "        name TEXT,\n",
    "        PRIMARY KEY(name)\n",
    "    )\n",
    "    '''\n",
    "freq_sql = '''\n",
    "    CREATE TABLE IF NOT EXISTS frequency_table (\n",
    "            freq_id INTEGER NOT NULL UNIQUE,\n",
    "            name TEXT,\n",
    "            PRIMARY KEY(name)\n",
    "        )\n",
    "'''\n",
    "\n",
    "category_sql = '''\n",
    "    CREATE TABLE IF NOT EXISTS category_table (\n",
    "        category_id INTEGER NOT NULL UNIQUE,\n",
    "        name TEXT,\n",
    "        type INTEGER NOT NULL,\n",
    "        PRIMARY KEY(category_id AUTOINCREMENT),\n",
    "        FOREIGN KEY(type) REFERENCES type_table(type_id)\n",
    "    )\n",
    "    '''\n",
    "records_sql = '''\n",
    "    CREATE TABLE IF NOT EXISTS records (\n",
    "        records_id INTEGER NOT NULL UNIQUE,\n",
    "        name TEXT,\n",
    "        type INTEGER NOT NULL,\n",
    "        frequency INTEGER NOT NULL,\n",
    "        category INTEGER NOT NULL,\n",
    "        PRIMARY KEY(records_id),\n",
    "        FOREIGN KEY(type) REFERENCES type_table(type_id)\n",
    "        FOREIGN KEY(frequency) REFERENCES frequency_table(freq_id)\n",
    "        FOREIGN KEY(category) REFERENCES category_table(category_id)\n",
    "    )\n",
    "    '''\n",
    "\n",
    "commands = [type_sql, freq_sql, category_sql, records_sql]\n",
    "new_db = \"/Users/troboukis/Code/EAP/PLHPRO/final-project/FINANCE-DATABASE/new_db.db\"\n",
    "\n",
    "class DatabaseConnection:\n",
    "    def __init__(self, db_path):\n",
    "        self.db_path = db_path\n",
    "        self.conn = None\n",
    "\n",
    "    def lock_database(connection):\n",
    "        cursor = connection.cursor()\n",
    "        # Start an exclusive transaction\n",
    "        cursor.execute(\"BEGIN EXCLUSIVE TRANSACTION;\")\n",
    "        # Σε αυτό το σημείο, η βάση δεδομένων είναι κλειδωμένη για αποκλειστική πρόσβαση έως ότου η συναλλαγή δεσμευτεί ή ανακληθεί.\n",
    "\n",
    "    def unlock_database(connection, rollback=False):\n",
    "        # Δεσμεύοντας τη συναλλαγή, ξεκλειδώνοντας τη βάση δεδομένων\n",
    "        if rollback:\n",
    "            connection.commit()\n",
    "        # Εναλλακτικά, για επαναφορά και ξεκλείδωμα χωρίς αποθήκευση των αλλαγών\n",
    "        else:\n",
    "        connection.rollback()\n",
    "\n",
    "    def __enter__(self):\n",
    "        self.conn = sqlite3.connect(self.db_path)\n",
    "        self.cursor = self.conn.cursor()\n",
    "        self.cursor.execute('PRAGMA foreign_keys = ON;')\n",
    "        print(\"Συνδεθήκατε στη βάση δεδομένων.\")\n",
    "        return self\n",
    "\n",
    "    def __exit__(self, exc_type, exc_val, exc_tb):\n",
    "        unlock_database(self.conn)\n",
    "        self.conn.close()\n",
    "\n",
    "    def create_table(self, sql_command):\n",
    "        self.cursor.execute('PRAGMA foreign_keys = ON;')\n",
    "        self.cursor.execute(sql_command)\n",
    "        self.conn.commit()\n",
    "\n",
    "class showDatabase(DatabaseConnection):\n",
    "    def __init__(self, db_path):\n",
    "        super().__init__(db_path)\n",
    "    \n",
    "    def get_tables(self):\n",
    "        '''\n",
    "        Επιστρέφει τα ονόματα των πινάκων της βάσης δεδομένων.\n",
    "        '''\n",
    "        self.cursor.execute(\"SELECT name FROM sqlite_master WHERE type='table';\")\n",
    "        self.tables = self.cursor.fetchall()\n",
    "        list_tables = [table[0] for table in self.tables]\n",
    "        return list_tables\n",
    "\n",
    "    def showData(self, table, dataframe=False):\n",
    "        '''\n",
    "        Επιστρέφει τα δεδομένα της βάσης δεδομένων. Εάν columns=True, τότε επιστρέφει ένα πλαίσιο δεδομένων. Διαφορετικά επιστρέφει ένα λεξικό.\n",
    "        '''\n",
    "        parameter = f\"SELECT * FROM {table}\"\n",
    "        self.cursor.execute(parameter)\n",
    "        data = self.cursor.fetchall()\n",
    "        if not dataframe:\n",
    "            return prettify_data(data)\n",
    "        else:\n",
    "            columns = [description[0] for description in self.cursor.description]\n",
    "            # Use pandas DataFrame for prettifying and easy manipulation of data and column names\n",
    "            df = pd.DataFrame(data, columns=columns)\n",
    "            return df\n",
    "\n",
    "class enterRecords(DatabaseConnection):\n",
    "    def __init__(self, db_path):\n",
    "        super().__init__(db_path)\n",
    "\n",
    "    def insert_type_table(self):\n",
    "        \"\"\"\n",
    "        Εισάγει τύπο εσόδου-εξόδου.\n",
    "        :param name: Το όνομα της κατηγορίας (συμβολοσειρά).\n",
    "        :param type_id: 0=έξοδα, 1=έσοδα.\n",
    "        \"\"\"\n",
    "        with self:  # Utilizes the __enter__ and __exit__ methods from DatabaseConnection\n",
    "            type_id = int(input(\"Πατήστε '0' εάν η νέα κατηγορία είναι έξοδο και '1' εάν είναι έσοδο. \"))\n",
    "            if type_id==0:\n",
    "                name = input(\"Εισάγετε την κατηγορία εσόδου.\")\n",
    "            else:\n",
    "                name = input(\"Εισάγετε την κατηγορία εξόδου.\")\n",
    "            insert_query = '''INSERT INTO category_table (name, type) \n",
    "                              VALUES (?, ?)'''\n",
    "            try:\n",
    "                self.cursor.execute(insert_query, (name, type_id))\n",
    "                self.conn.commit()  # Commit changes to the database\n",
    "                print(\"Η κατηγορία εισήχθη επιτυχώς.\")\n",
    "            except sqlite3.IntegrityError as e:\n",
    "                print(\"Εμφανίστηκε σφάλμα:\", e)\n",
    "\n",
    "    def insert_category(self):\n",
    "        \"\"\"\n",
    "        Εισάγει μια νέα κατηγορία στον πίνακα category_table.\n",
    "        :param name: Το όνομα της κατηγορίας (συμβολοσειρά).\n",
    "        :param type_id: 0=έξοδα, 1=έσοδα.\n",
    "        \"\"\"\n",
    "        with self:  # Utilizes the __enter__ and __exit__ methods from DatabaseConnection\n",
    "            type_id = int(input(\"Πατήστε '0' εάν η νέα κατηγορία είναι έξοδο και '1' εάν είναι έσοδο. \"))\n",
    "            if type_id==0:\n",
    "                name = input(\"Εισάγετε την κατηγορία εσόδου.\")\n",
    "            else:\n",
    "                name = input(\"Εισάγετε την κατηγορία εξόδου.\")\n",
    "            insert_query = '''INSERT INTO category_table (name, type) \n",
    "                              VALUES (?, ?)'''\n",
    "            try:\n",
    "                self.cursor.execute(insert_query, (name, type_id))\n",
    "                self.conn.commit()  # Commit changes to the database\n",
    "                print(\"Η κατηγορία εισήχθη επιτυχώς.\")\n",
    "            except sqlite3.IntegrityError as e:\n",
    "                print(\"Εμφανίστηκε σφάλμα:\", e)"
   ]
  },
  {
   "cell_type": "code",
   "execution_count": 48,
   "id": "8863ad6d-68c7-4e25-8a1e-2751d8232807",
   "metadata": {},
   "outputs": [
    {
     "name": "stdout",
     "output_type": "stream",
     "text": [
      "Συνδεθήκατε στη βάση δεδομένων.\n"
     ]
    },
    {
     "ename": "NameError",
     "evalue": "name 'unlock_database' is not defined",
     "output_type": "error",
     "traceback": [
      "\u001b[0;31m---------------------------------------------------------------------------\u001b[0m",
      "\u001b[0;31mNameError\u001b[0m                                 Traceback (most recent call last)",
      "Cell \u001b[0;32mIn[48], line 1\u001b[0m\n\u001b[0;32m----> 1\u001b[0m \u001b[38;5;28;43;01mwith\u001b[39;49;00m\u001b[43m \u001b[49m\u001b[43mDatabaseConnection\u001b[49m\u001b[43m(\u001b[49m\u001b[43mnew_db\u001b[49m\u001b[43m)\u001b[49m\u001b[43m \u001b[49m\u001b[38;5;28;43;01mas\u001b[39;49;00m\u001b[43m \u001b[49m\u001b[43mdb\u001b[49m\u001b[43m:\u001b[49m\n\u001b[1;32m      2\u001b[0m \u001b[43m    \u001b[49m\u001b[43mdb\u001b[49m\u001b[38;5;241;43m.\u001b[39;49m\u001b[43mcreate_table\u001b[49m\u001b[43m(\u001b[49m\u001b[43mtype_sql\u001b[49m\u001b[43m)\u001b[49m\n",
      "Cell \u001b[0;32mIn[47], line 67\u001b[0m, in \u001b[0;36mDatabaseConnection.__exit__\u001b[0;34m(self, exc_type, exc_val, exc_tb)\u001b[0m\n\u001b[1;32m     66\u001b[0m \u001b[38;5;28;01mdef\u001b[39;00m \u001b[38;5;21m__exit__\u001b[39m(\u001b[38;5;28mself\u001b[39m, exc_type, exc_val, exc_tb):\n\u001b[0;32m---> 67\u001b[0m     \u001b[43munlock_database\u001b[49m(\u001b[38;5;28mself\u001b[39m\u001b[38;5;241m.\u001b[39mconn)\n\u001b[1;32m     68\u001b[0m     \u001b[38;5;28mself\u001b[39m\u001b[38;5;241m.\u001b[39mconn\u001b[38;5;241m.\u001b[39mclose()\n",
      "\u001b[0;31mNameError\u001b[0m: name 'unlock_database' is not defined"
     ]
    }
   ],
   "source": [
    "with DatabaseConnection(new_db) as db:\n",
    "    db.create_table(type_sql)"
   ]
  },
  {
   "cell_type": "code",
   "execution_count": 41,
   "id": "e7eae46a-3eeb-4f9c-b147-69f36be1af6b",
   "metadata": {},
   "outputs": [
    {
     "name": "stdout",
     "output_type": "stream",
     "text": [
      "Συνδεθήκατε στη βάση δεδομένων.\n",
      "['category_table', 'type_table', 'frequency_table', 'records']\n",
      "Empty DataFrame\n",
      "Columns: [category_id, name, type]\n",
      "Index: []\n"
     ]
    }
   ],
   "source": [
    "with showDatabase(new_db) as db:\n",
    "    tables = db.get_tables() \n",
    "    data = db.showData(tables[0], dataframe=True)\n",
    "    print(tables)\n",
    "    print(data)"
   ]
  },
  {
   "cell_type": "code",
   "execution_count": 42,
   "id": "e7d6c311-dbd1-4b4e-910e-fc7412dddf81",
   "metadata": {},
   "outputs": [
    {
     "name": "stdout",
     "output_type": "stream",
     "text": [
      "Συνδεθήκατε στη βάση δεδομένων.\n",
      "Συνδεθήκατε στη βάση δεδομένων.\n"
     ]
    },
    {
     "name": "stdin",
     "output_type": "stream",
     "text": [
      "Πατήστε '0' εάν η νέα κατηγορία είναι έξοδο και '1' εάν είναι έσοδο.  0\n",
      "Εισάγετε την κατηγορία εσόδου. ενοίκιο\n"
     ]
    },
    {
     "name": "stdout",
     "output_type": "stream",
     "text": [
      "Εμφανίστηκε σφάλμα: FOREIGN KEY constraint failed\n"
     ]
    }
   ],
   "source": [
    "with enterRecords(new_db) as er:\n",
    "    er.insert_category()"
   ]
  },
  {
   "cell_type": "code",
   "execution_count": 22,
   "id": "ebc030a3-8196-4fcd-a3d0-2195923a6dd4",
   "metadata": {},
   "outputs": [
    {
     "data": {
      "text/html": [
       "<div>\n",
       "<style scoped>\n",
       "    .dataframe tbody tr th:only-of-type {\n",
       "        vertical-align: middle;\n",
       "    }\n",
       "\n",
       "    .dataframe tbody tr th {\n",
       "        vertical-align: top;\n",
       "    }\n",
       "\n",
       "    .dataframe thead th {\n",
       "        text-align: right;\n",
       "    }\n",
       "</style>\n",
       "<table border=\"1\" class=\"dataframe\">\n",
       "  <thead>\n",
       "    <tr style=\"text-align: right;\">\n",
       "      <th></th>\n",
       "      <th>category_id</th>\n",
       "      <th>name</th>\n",
       "      <th>type</th>\n",
       "    </tr>\n",
       "  </thead>\n",
       "  <tbody>\n",
       "  </tbody>\n",
       "</table>\n",
       "</div>"
      ],
      "text/plain": [
       "Empty DataFrame\n",
       "Columns: [category_id, name, type]\n",
       "Index: []"
      ]
     },
     "execution_count": 22,
     "metadata": {},
     "output_type": "execute_result"
    }
   ],
   "source": [
    "db.showData('category_table', dataframe=True)"
   ]
  },
  {
   "cell_type": "code",
   "execution_count": 13,
   "id": "523b91ed-b8be-44a6-a753-830d558d273f",
   "metadata": {},
   "outputs": [
    {
     "name": "stdout",
     "output_type": "stream",
     "text": [
      "Database disconnected.\n"
     ]
    }
   ],
   "source": [
    "db.disconnect()"
   ]
  },
  {
   "cell_type": "code",
   "execution_count": 25,
   "id": "0b8c2757-26d1-422f-8deb-260b195d3d83",
   "metadata": {},
   "outputs": [],
   "source": [
    "for command in commands:\n",
    "    db.create_table(command)"
   ]
  },
  {
   "cell_type": "code",
   "execution_count": 26,
   "id": "e453a863-1292-4fbd-8051-ef37e6c0a5a9",
   "metadata": {},
   "outputs": [
    {
     "data": {
      "text/plain": [
       "['category_table', 'type_table', 'frequency_table', 'records']"
      ]
     },
     "execution_count": 26,
     "metadata": {},
     "output_type": "execute_result"
    }
   ],
   "source": [
    "db.get_tables()"
   ]
  },
  {
   "cell_type": "code",
   "execution_count": 27,
   "id": "c725e9b3-1933-4e18-bd47-f996fea2b4cc",
   "metadata": {},
   "outputs": [
    {
     "name": "stdout",
     "output_type": "stream",
     "text": [
      "table: item\n",
      "data: Empty DataFrame\n",
      "Columns: [category_id, name, type]\n",
      "Index: []\n",
      "\n",
      "\n",
      "table: item\n",
      "data: Empty DataFrame\n",
      "Columns: [type_id, name]\n",
      "Index: []\n",
      "\n",
      "\n",
      "table: item\n",
      "data: Empty DataFrame\n",
      "Columns: [freq_id, name]\n",
      "Index: []\n",
      "\n",
      "\n",
      "table: item\n",
      "data: Empty DataFrame\n",
      "Columns: [records_id, name, type, frequency, category]\n",
      "Index: []\n",
      "\n",
      "\n"
     ]
    }
   ],
   "source": [
    "for item in db.get_tables():\n",
    "    print(f\"table: item\\ndata: {db.showData(item, columns=True)}\\n\\n\")"
   ]
  },
  {
   "cell_type": "code",
   "execution_count": null,
   "id": "2df99580-d5d9-4a1d-81d7-fc4bb5703df0",
   "metadata": {},
   "outputs": [],
   "source": []
  },
  {
   "cell_type": "code",
   "execution_count": null,
   "id": "12163b86-13f7-4c4a-85cb-a84f436ed319",
   "metadata": {},
   "outputs": [],
   "source": [
    "db.disconnect()"
   ]
  },
  {
   "cell_type": "code",
   "execution_count": null,
   "id": "fe12243b-c262-4285-9760-4f45c3b9e2a7",
   "metadata": {},
   "outputs": [],
   "source": []
  },
  {
   "cell_type": "code",
   "execution_count": null,
   "id": "670705ec-594d-474d-ae26-059f7c27af5c",
   "metadata": {},
   "outputs": [],
   "source": []
  },
  {
   "cell_type": "code",
   "execution_count": null,
   "id": "c1330aa8",
   "metadata": {},
   "outputs": [],
   "source": [
    "class Finance():\n",
    "    def __init__(self, database):\n",
    "        self.conn = sqlite3.connect(database)\n",
    "        self.cursor = self.conn.cursor()\n",
    "    \n",
    "    def get_tables(self):\n",
    "        self.cursor.execute(\"SELECT name FROM sqlite_master WHERE type='table';\")\n",
    "        self.tables = self.cursor.fetchall()\n",
    "        list_tables = [table[0] for table in self.tables]\n",
    "        return list_tables\n",
    "    \n",
    "    def get_data(self, table):\n",
    "        self.cursor.execute(f\"SELECT * FROM {table}\")\n",
    "        rows = self.cursor.fetchall()\n",
    "        for row in rows:\n",
    "            if row[1]=='add category':\n",
    "                print(row)\n",
    "    \n",
    "    def update_item(self, table, value_to_update):\n",
    "        name = input(\"Δώστε τo όνομα της κατηγορίας που θέλετε να ανανεώσετε.\")\n",
    "        if value_to_update == 'type':\n",
    "            value = int(input(\"Πατήστε 0 για να την εντάξετε στα έξοδα ή 1 για για να την εντάξετε στα έσοδα.\"))\n",
    "        elif value_to_update=='name':\n",
    "            value = input(\"Γράψτε το νέο όνομα της κατηγορίας.\")\n",
    "        parameter = f\"UPDATE {table} SET {value_to_update} = ? WHERE name = ?\"\n",
    "        self.cursor.execute(parameter, (value, name))\n",
    "        self.conn.commit()\n",
    "    \n",
    "    def delete_item(self, table):\n",
    "        name = input(\"Δώστε τo όνομα της κατηγορίας που θέλετε να διαγράψετε.\")\n",
    "        parameter = f\"DELETE FROM {table} WHERE name = ?\"\n",
    "        self.cursor.execute(parameter, (name,))\n",
    "        self.conn.commit()\n",
    "    \n",
    "    def add_item(self, table):\n",
    "        name = input(\"Δώστε το όνομα της νέας κατηγορίας\")\n",
    "        value = int(input(\"Πατήστε 0 εάν η νέα κατηγορία ανήκει στα έξοδα, ή 1 εάν ανήκει στα έσοδα\"))\n",
    "        parameter = f\"INSERT INTO {table} (name, type) VALUES (?, ?)\"\n",
    "        self.cursor.execute(parameter, (name, value))\n",
    "        self.conn.commit()\n",
    "        \n",
    "    def show_data(self, table):\n",
    "        parameter = f\"SELECT * FROM {table}\"\n",
    "        self.cursor.execute(f\"SELECT * FROM {table}\")\n",
    "        data = self.cursor.fetchall()\n",
    "        return prettify_data(data)\n",
    "    \n",
    "    def close_conn(self):\n",
    "        self.conn.close()\n",
    "        \n",
    "class Graphics(Finance):\n",
    "    def __init__(self):\n",
    "        super().__init__(self, database)"
   ]
  },
  {
   "cell_type": "code",
   "execution_count": null,
   "id": "bc8d3168",
   "metadata": {},
   "outputs": [],
   "source": [
    "fin = Finance(new_db)"
   ]
  },
  {
   "cell_type": "code",
   "execution_count": null,
   "id": "38d91b5b",
   "metadata": {},
   "outputs": [],
   "source": [
    "fin.close_conn()"
   ]
  },
  {
   "cell_type": "code",
   "execution_count": null,
   "id": "a7aad0e9",
   "metadata": {},
   "outputs": [],
   "source": [
    "pd.DataFrame(fin.show_data('category')).T.reset_index()"
   ]
  },
  {
   "cell_type": "code",
   "execution_count": null,
   "id": "4662f3fa",
   "metadata": {},
   "outputs": [],
   "source": [
    "fin.get_tables()"
   ]
  },
  {
   "cell_type": "code",
   "execution_count": null,
   "id": "358ec763",
   "metadata": {},
   "outputs": [],
   "source": [
    "fin.delete_item('category')"
   ]
  },
  {
   "cell_type": "code",
   "execution_count": null,
   "id": "561c0ddb",
   "metadata": {},
   "outputs": [],
   "source": [
    "fin.add_item('category')"
   ]
  },
  {
   "cell_type": "code",
   "execution_count": null,
   "id": "22457f22",
   "metadata": {},
   "outputs": [],
   "source": [
    "fin.update_item('category', 'name')"
   ]
  },
  {
   "cell_type": "code",
   "execution_count": null,
   "id": "028c07f3",
   "metadata": {},
   "outputs": [],
   "source": [
    "fin"
   ]
  },
  {
   "cell_type": "code",
   "execution_count": null,
   "id": "1b4113a9",
   "metadata": {},
   "outputs": [],
   "source": []
  }
 ],
 "metadata": {
  "kernelspec": {
   "display_name": "eap-final-project",
   "language": "python",
   "name": "eap-final-project"
  },
  "language_info": {
   "codemirror_mode": {
    "name": "ipython",
    "version": 3
   },
   "file_extension": ".py",
   "mimetype": "text/x-python",
   "name": "python",
   "nbconvert_exporter": "python",
   "pygments_lexer": "ipython3",
   "version": "3.11.2"
  }
 },
 "nbformat": 4,
 "nbformat_minor": 5
}
